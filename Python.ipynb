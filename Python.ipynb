{
  "nbformat": 4,
  "nbformat_minor": 0,
  "metadata": {
    "colab": {
      "name": "初めてのPython.ipynb",
      "version": "0.3.2",
      "provenance": []
    },
    "kernelspec": {
      "name": "python3",
      "display_name": "Python 3"
    }
  },
  "cells": [
    {
      "cell_type": "code",
      "metadata": {
        "id": "ldmzZR8RqGVY",
        "colab_type": "code",
        "colab": {
          "base_uri": "https://localhost:8080/",
          "height": 187
        },
        "outputId": "5af39e91-e87d-4003-ddc4-1ec3bf3b90b7"
      },
      "source": [
        "for i in  range(5):\n",
        "  print(i)\n",
        "  print(\"Hello World\")"
      ],
      "execution_count": 1,
      "outputs": [
        {
          "output_type": "stream",
          "text": [
            "0\n",
            "Hello World\n",
            "1\n",
            "Hello World\n",
            "2\n",
            "Hello World\n",
            "3\n",
            "Hello World\n",
            "4\n",
            "Hello World\n"
          ],
          "name": "stdout"
        }
      ]
    },
    {
      "cell_type": "markdown",
      "metadata": {
        "id": "NYzFgTbBsg4P",
        "colab_type": "text"
      },
      "source": [
        "**for文練習**"
      ]
    },
    {
      "cell_type": "code",
      "metadata": {
        "id": "YbSCbG9Mrvuc",
        "colab_type": "code",
        "colab": {
          "base_uri": "https://localhost:8080/",
          "height": 119
        },
        "outputId": "9606ddf8-c203-4ffe-9c8d-c63a5d08e6e5"
      },
      "source": [
        "for i in range(5):\n",
        "  print(i)\n",
        "print(\"Hello World\")"
      ],
      "execution_count": 2,
      "outputs": [
        {
          "output_type": "stream",
          "text": [
            "0\n",
            "1\n",
            "2\n",
            "3\n",
            "4\n",
            "Hello World\n"
          ],
          "name": "stdout"
        }
      ]
    }
  ]
}